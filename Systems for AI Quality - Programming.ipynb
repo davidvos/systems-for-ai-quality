{
 "cells": [
  {
   "cell_type": "code",
   "execution_count": 207,
   "id": "2b700fd5",
   "metadata": {},
   "outputs": [],
   "source": [
    "import glob\n",
    "import pandas as pd\n",
    "\n",
    "from sklearn import linear_model\n",
    "from sklearn.feature_extraction.text import TfidfVectorizer\n",
    "from sklearn.model_selection import train_test_split\n",
    "from sklearn.preprocessing import LabelEncoder"
   ]
  },
  {
   "cell_type": "code",
   "execution_count": 189,
   "id": "ac577a76",
   "metadata": {},
   "outputs": [],
   "source": [
    "SEED = 42"
   ]
  },
  {
   "cell_type": "code",
   "execution_count": 217,
   "id": "bdb23385",
   "metadata": {},
   "outputs": [],
   "source": [
    "def load_products():\n",
    "    \"\"\"\n",
    "    Load the products data into a dataframe.\n",
    "\n",
    "    Returns:\n",
    "        dataframe: Pandas Dataframe containing the products data.\n",
    "    \"\"\"\n",
    "    product_filenames = glob.glob(\"dataset/products-data-*.tsv\")\n",
    "    product_dfs = []\n",
    "    for product_filename in product_filenames:\n",
    "        products_df = pd.read_csv(product_filename, sep='\\t', names=[\"id\", \"category\", \"product\"])\n",
    "        product_dfs.append(products_df)\n",
    "\n",
    "    products_data = pd.concat(product_dfs, ignore_index=True)\n",
    "    return products_data"
   ]
  },
  {
   "cell_type": "code",
   "execution_count": 218,
   "id": "5bd9e219",
   "metadata": {},
   "outputs": [],
   "source": [
    "def load_reviews():\n",
    "    \"\"\"\n",
    "    Load the reviews data into a dataframe.\n",
    "\n",
    "    Returns:\n",
    "        dataframe: Pandas Dataframe containing the reviews data.\n",
    "    \"\"\"\n",
    "    review_filenames = glob.glob(f\"dataset/reviews-*.tsv\")\n",
    "    review_dfs = []\n",
    "    for review_filename in review_filenames:\n",
    "        reviews_df = pd.read_csv(review_filename, sep='\\t', names=[\"id\", \"rating\", \"review_text\"])\n",
    "        review_dfs.append(reviews_df)\n",
    "\n",
    "    reviews_data = pd.concat(review_dfs, ignore_index=True)\n",
    "    return reviews_data"
   ]
  },
  {
   "cell_type": "code",
   "execution_count": 210,
   "id": "2fe94027",
   "metadata": {},
   "outputs": [],
   "source": [
    "def load_data():\n",
    "    \"\"\"\n",
    "    Load and join the products and reviews data. Encode the labels \n",
    "    correctly and drop unnecessary columns.\n",
    "\n",
    "    Returns:\n",
    "        dataframe: Pandas dataframe containing the products and reviews data.\n",
    "    \"\"\"\n",
    "    products_data = load_products()\n",
    "    reviews_data = load_reviews()\n",
    "    data = products_data.merge(reviews_data, on='id', how='left')\n",
    "    \n",
    "    label_encoder = LabelEncoder()\n",
    "    data['label'] = label_encoder.fit_transform(data['category'])\n",
    "    data = data.drop(['id', 'category'], axis=1)\n",
    "    return data"
   ]
  },
  {
   "cell_type": "code",
   "execution_count": 219,
   "id": "f0b66557",
   "metadata": {},
   "outputs": [],
   "source": [
    "def split_data(data):\n",
    "    \"\"\"\n",
    "    Split the entire dataset into a train, evaluation and test split.\n",
    "\n",
    "    Args:\n",
    "        data (dataframe): Dataframe containing all products and reviews data.\n",
    "\n",
    "    Returns:\n",
    "        dataframe: Training data\n",
    "        dataframe: Training labels\n",
    "        dataframe: Evaluation data\n",
    "        dataframe: Evaluation labels\n",
    "        dataframe: Test data\n",
    "        dataframe: Test labels\n",
    "    \"\"\"\n",
    "    train_df, eval_df = train_test_split(data, test_size=0.2, random_state=SEED)\n",
    "    eval_df, test_df = train_test_split(eval_df, test_size=0.5, random_state=SEED)\n",
    "\n",
    "    X_train = train_df.drop('label', axis=1)\n",
    "    y_train = train_df['label']\n",
    "    X_eval = eval_df.drop('label', axis=1)\n",
    "    y_eval = eval_df['label']\n",
    "    X_test = test_df.drop('label', axis=1)\n",
    "    y_test = test_df['label']\n",
    "    \n",
    "    return X_train, y_train, X_eval, y_eval, X_test, y_test"
   ]
  },
  {
   "cell_type": "code",
   "execution_count": 212,
   "id": "a3239065",
   "metadata": {},
   "outputs": [],
   "source": [
    "def text_to_tfidf(data, column, max_features):\n",
    "    \"\"\"\n",
    "    Encode a text column in a dataframe to tf-idf. \n",
    "    Only the max_features most used words will be used.\n",
    "\n",
    "    Args:\n",
    "        data (dataframe): Data with column to be encoded.\n",
    "        column (string): Name of the column to be encoded.\n",
    "        max_features (int): Amount of most used words to encode.\n",
    "\n",
    "    Returns:\n",
    "        dataframe: Dataframe with the encoded column.\n",
    "    \"\"\"\n",
    "    vectorizer = TfidfVectorizer(max_features=max_features)\n",
    "    \n",
    "    products_tfidf = vectorizer.fit_transform(data[column])\n",
    "    products_tfidf_df = pd.DataFrame(products_tfidf.toarray()\n",
    "                                    )\n",
    "    X = pd.concat([data, products_tfidf_df], axis=1)\n",
    "    X = X.drop(column, axis=1)\n",
    "    X.columns = X.columns.astype(str)\n",
    "    \n",
    "    return X"
   ]
  },
  {
   "cell_type": "code",
   "execution_count": 226,
   "id": "a4dd43ac",
   "metadata": {},
   "outputs": [],
   "source": [
    "# Load data, transform product column to tf-idf, drop rating related columns, split data\n",
    "data = load_data()\n",
    "data = text_to_tfidf(data, 'product', 1000)\n",
    "\n",
    "# After experimenting on evaluation data, including the review data\n",
    "# seems to slightly decrease performance. That's why we leave \n",
    "# the two columns out here.\n",
    "\n",
    "# data = text_to_tfidf(data, 'review_text', 1000)\n",
    "data = data.drop(['rating', 'review_text'], axis=1)\n",
    "\n",
    "X_train, y_train, X_eval, y_eval, X_test, y_test = split_data(data)"
   ]
  },
  {
   "cell_type": "code",
   "execution_count": 227,
   "id": "735acec3",
   "metadata": {},
   "outputs": [
    {
     "name": "stdout",
     "output_type": "stream",
     "text": [
      "Evaluation Accuracy: 0.92\n"
     ]
    }
   ],
   "source": [
    "# Instantiate model and fit training data\n",
    "model = linear_model.LogisticRegression()\n",
    "model.fit(X_train, y_train)\n",
    "\n",
    "# Evaluate on the evaluation set\n",
    "eval_accuracy = model.score(X_eval, y_eval)\n",
    "print(\"Evaluation Accuracy:\", eval_accuracy)"
   ]
  },
  {
   "cell_type": "code",
   "execution_count": 228,
   "id": "ccaa6c4f",
   "metadata": {},
   "outputs": [
    {
     "name": "stdout",
     "output_type": "stream",
     "text": [
      "Test Accuracy: 0.8920454545454546\n"
     ]
    }
   ],
   "source": [
    "# Predict on the test set\n",
    "test_accuracy = model.score(X_test, y_test)\n",
    "print(\"Test Accuracy:\", test_accuracy)"
   ]
  },
  {
   "cell_type": "code",
   "execution_count": 236,
   "id": "d51f6ad7",
   "metadata": {},
   "outputs": [
    {
     "name": "stdout",
     "output_type": "stream",
     "text": [
      "Different labels: {0, 1, 2}\n",
      "Amount of samples: 1754\n",
      "\n",
      "Baseline accuracy if we only predict one class:\n",
      "0.48295454545454547\n",
      "0.42045454545454547\n",
      "0.09659090909090909\n"
     ]
    }
   ],
   "source": [
    "# Compute baseline accuracy\n",
    "print('Different labels: ' + str(set(y)))\n",
    "print('Amount of samples: ' + str(len(y)))\n",
    "\n",
    "print('\\nBaseline accuracy if we only predict one class:')\n",
    "print(len([label for label in y_test if label == 0])/len(y_test))\n",
    "print(len([label for label in y_test if label == 1])/len(y_test))\n",
    "print(len([label for label in y_test if label == 2])/len(y_test))"
   ]
  },
  {
   "cell_type": "code",
   "execution_count": null,
   "id": "83db4614",
   "metadata": {},
   "outputs": [],
   "source": []
  }
 ],
 "metadata": {
  "kernelspec": {
   "display_name": "Python 3 (ipykernel)",
   "language": "python",
   "name": "python3"
  },
  "language_info": {
   "codemirror_mode": {
    "name": "ipython",
    "version": 3
   },
   "file_extension": ".py",
   "mimetype": "text/x-python",
   "name": "python",
   "nbconvert_exporter": "python",
   "pygments_lexer": "ipython3",
   "version": "3.9.12"
  }
 },
 "nbformat": 4,
 "nbformat_minor": 5
}
